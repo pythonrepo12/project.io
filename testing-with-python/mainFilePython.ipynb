{
 "cells": [
  {
   "cell_type": "code",
   "execution_count": 1,
   "id": "f67fb9fa",
   "metadata": {},
   "outputs": [],
   "source": [
    "#Demonstrate the Use of Cryptographic Libraries in a Simple Application\n",
    "#Below is a Python example that uses the cryptography library to perform basic encryption and decryption."
   ]
  },
  {
   "cell_type": "code",
   "execution_count": 2,
   "id": "4528081d",
   "metadata": {},
   "outputs": [],
   "source": [
    "from cryptography.fernet import Fernet"
   ]
  },
  {
   "cell_type": "code",
   "execution_count": 3,
   "id": "aaa58248",
   "metadata": {},
   "outputs": [],
   "source": [
    "# Generate a key for encryption and decryption\n",
    "def generate_key():\n",
    "    return Fernet.generate_key()\n"
   ]
  },
  {
   "cell_type": "code",
   "execution_count": 4,
   "id": "11930e6d",
   "metadata": {},
   "outputs": [],
   "source": [
    "# Encrypt data\n",
    "def encrypt_data(key, data):\n",
    "    cipher_suite = Fernet(key)\n",
    "    encrypted_data = cipher_suite.encrypt(data.encode())\n",
    "    return encrypted_data\n"
   ]
  },
  {
   "cell_type": "code",
   "execution_count": 5,
   "id": "37ca9fa6",
   "metadata": {},
   "outputs": [],
   "source": [
    "# Decrypt data\n",
    "def decrypt_data(key, encrypted_data):\n",
    "    cipher_suite = Fernet(key)\n",
    "    decrypted_data = cipher_suite.decrypt(encrypted_data).decode()\n",
    "    return decrypted_data\n"
   ]
  },
  {
   "cell_type": "code",
   "execution_count": 6,
   "id": "41152c6b",
   "metadata": {},
   "outputs": [
    {
     "name": "stdout",
     "output_type": "stream",
     "text": [
      "Generated Key: epz9me91yYbetWKl7BRzrQ_cFMDWLVdWJTGfDK1VwGg=\n",
      "Original Data: Hello, World!\n",
      "Encrypted Data: gAAAAABm5AS8ZvBjjExGsM4jdwhW7TLr6IgnsW3WPQEmxcuP-S-PSJWRG_dWLdPxpHyK55bnMso2Yj5XhyqYLPfpIcrZ9O2T8Q==\n",
      "Decrypted Data: Hello, World!\n"
     ]
    }
   ],
   "source": [
    "# Example usage\n",
    "if __name__ == \"__main__\":\n",
    "    # Generate a key\n",
    "    key = generate_key()\n",
    "    print(f\"Generated Key: {key.decode()}\")\n",
    "\n",
    "    # Data to encrypt\n",
    "    data = \"Hello, World!\"\n",
    "    print(f\"Original Data: {data}\")\n",
    "\n",
    "    # Encrypt the data\n",
    "    encrypted_data = encrypt_data(key, data)\n",
    "    print(f\"Encrypted Data: {encrypted_data.decode()}\")\n",
    "\n",
    "    # Decrypt the data\n",
    "    decrypted_data = decrypt_data(key, encrypted_data)\n",
    "    print(f\"Decrypted Data: {decrypted_data}\")\n"
   ]
  },
  {
   "cell_type": "code",
   "execution_count": null,
   "id": "6cc000fc",
   "metadata": {},
   "outputs": [],
   "source": [
    "#Activity 4: Creating a Python Command Shell"
   ]
  },
  {
   "cell_type": "code",
   "execution_count": 7,
   "id": "d03f5900",
   "metadata": {},
   "outputs": [],
   "source": [
    "\n",
    "def list_directory():\n",
    "    \"\"\"List the contents of the current directory.\"\"\"\n",
    "    return os.listdir()\n"
   ]
  },
  {
   "cell_type": "code",
   "execution_count": 8,
   "id": "ae00e1a6",
   "metadata": {},
   "outputs": [],
   "source": [
    "def add_numbers(num1, num2):\n",
    "    \"\"\"Add two numbers and return the result.\"\"\"\n",
    "    try:\n",
    "        return float(num1) + float(num2)\n",
    "    except ValueError:\n",
    "        return \"Error: Invalid numbers.\"\n"
   ]
  },
  {
   "cell_type": "code",
   "execution_count": 9,
   "id": "af8395b1",
   "metadata": {},
   "outputs": [],
   "source": [
    "def show_help():\n",
    "    \"\"\"Display available commands.\"\"\"\n",
    "    return (\n",
    "        \"Available commands:\\n\"\n",
    "        \"LIST - List the contents of the current directory\\n\"\n",
    "        \"ADD <num1> <num2> - Add two numbers\\n\"\n",
    "        \"HELP - Show this help message\\n\"\n",
    "        \"EXIT - Exit the shell\"\n",
    "    )\n"
   ]
  },
  {
   "cell_type": "code",
   "execution_count": 10,
   "id": "328618b2",
   "metadata": {},
   "outputs": [],
   "source": [
    "def command_shell():\n",
    "    \"\"\"Run the command shell.\"\"\"\n",
    "    print(\"Simple Command Shell. Type 'HELP' for a list of commands.\")\n",
    "    while True:\n",
    "        # Get user input\n",
    "        command = input(\"> \").strip().upper()\n",
    "        \n",
    "        if command == \"EXIT\":\n",
    "            print(\"Exiting shell...\")\n",
    "            break\n",
    "        elif command == \"LIST\":\n",
    "            print(\"\\n\".join(list_directory()))\n",
    "        elif command.startswith(\"ADD\"):\n",
    "            parts = command.split()\n",
    "            if len(parts) == 3:\n",
    "                result = add_numbers(parts[1], parts[2])\n",
    "                print(result)\n",
    "            else:\n",
    "                print(\"Error: ADD command requires two numbers.\")\n",
    "        elif command == \"HELP\":\n",
    "            print(show_help())\n",
    "        else:\n",
    "            print(\"Error: Unknown command. Type 'HELP' for a list of commands.\")\n"
   ]
  },
  {
   "cell_type": "code",
   "execution_count": 11,
   "id": "3a3f936a",
   "metadata": {},
   "outputs": [
    {
     "name": "stdout",
     "output_type": "stream",
     "text": [
      "Simple Command Shell. Type 'HELP' for a list of commands.\n",
      "> HELP\n",
      "Available commands:\n",
      "LIST - List the contents of the current directory\n",
      "ADD <num1> <num2> - Add two numbers\n",
      "HELP - Show this help message\n",
      "EXIT - Exit the shell\n",
      "> ADD\n",
      "Error: ADD command requires two numbers.\n",
      "> ADD 2 4\n",
      "6.0\n",
      "> EXIT\n",
      "Exiting shell...\n"
     ]
    }
   ],
   "source": [
    "if __name__ == \"__main__\":\n",
    "    command_shell()\n"
   ]
  },
  {
   "cell_type": "code",
   "execution_count": null,
   "id": "3f142252",
   "metadata": {},
   "outputs": [],
   "source": []
  },
  {
   "cell_type": "code",
   "execution_count": null,
   "id": "18316009",
   "metadata": {},
   "outputs": [],
   "source": [
    "#Activity 3: Equivalence Partitioning in Python"
   ]
  },
  {
   "cell_type": "code",
   "execution_count": null,
   "id": "3c1fbb47",
   "metadata": {},
   "outputs": [],
   "source": [
    "# Define the equivalence_partition Function"
   ]
  },
  {
   "cell_type": "code",
   "execution_count": 12,
   "id": "2d72908c",
   "metadata": {},
   "outputs": [],
   "source": [
    "def equivalence_partition(elements, relation): \n",
    "    \"\"\"Partition elements based on a relation function.\"\"\"\n",
    "    partitions = []\n",
    "    for element in elements:\n",
    "        found = False\n",
    "        for partition in partitions:\n",
    "            if relation(element, next(iter(partition))):\n",
    "                partition.add(element)\n",
    "                found = True\n",
    "                break\n",
    "        if not found:\n",
    "            partitions.append(set([element]))\n",
    "    return partitions\n"
   ]
  },
  {
   "cell_type": "code",
   "execution_count": null,
   "id": "11bda47d",
   "metadata": {},
   "outputs": [],
   "source": [
    "#Define the test_equivalence_partition Function"
   ]
  },
  {
   "cell_type": "code",
   "execution_count": 13,
   "id": "a0f32e35",
   "metadata": {},
   "outputs": [
    {
     "name": "stdout",
     "output_type": "stream",
     "text": [
      "Partitions:\n",
      "{1, 5, -3}\n",
      "{2, -2}\n",
      "{3, -1}\n",
      "{0, 4}\n",
      "\n",
      "Checking equivalence:\n",
      "-3 : {1, 5, -3}\n",
      "-2 : {2, -2}\n",
      "-1 : {3, -1}\n",
      "0 : {0, 4}\n",
      "1 : {1, 5, -3}\n",
      "2 : {2, -2}\n",
      "3 : {3, -1}\n",
      "4 : {0, 4}\n",
      "5 : {1, 5, -3}\n"
     ]
    }
   ],
   "source": [
    "def test_equivalence_partition():\n",
    "    \"\"\"Test the equivalence partitioning.\"\"\"\n",
    "    elements = [-3, -2, -1, 0, 1, 2, 3, 4, 5]\n",
    "    relation = lambda x, y: (x - y) % 4 == 0\n",
    "    partitions = equivalence_partition(elements, relation)\n",
    "    print(\"Partitions:\")\n",
    "    for partition in partitions:\n",
    "        print(partition)\n",
    "    print(\"\\nChecking equivalence:\")\n",
    "    for element in elements:\n",
    "        for partition in partitions:\n",
    "            if element in partition:\n",
    "                print(f\"{element} : {partition}\")\n",
    "\n",
    "# Run the test\n",
    "test_equivalence_partition()\n"
   ]
  },
  {
   "cell_type": "code",
   "execution_count": null,
   "id": "a938d348",
   "metadata": {},
   "outputs": [],
   "source": []
  },
  {
   "cell_type": "code",
   "execution_count": 14,
   "id": "7a2bed9f",
   "metadata": {},
   "outputs": [],
   "source": [
    "import matplotlib.pyplot as plt\n"
   ]
  },
  {
   "cell_type": "code",
   "execution_count": 15,
   "id": "769d20e9",
   "metadata": {},
   "outputs": [],
   "source": [
    "def visualize_partitions(partitions):\n",
    "    \"\"\"Visualize partitions using matplotlib.\"\"\"\n",
    "    colors = ['red', 'green', 'blue', 'orange']\n",
    "    plt.figure(figsize=(8, 6))\n",
    "    \n",
    "    for i, partition in enumerate(partitions):\n",
    "        x = [el for el in partition]\n",
    "        y = [i] * len(x)\n",
    "        plt.scatter(x, y, color=colors[i % len(colors)], label=f'Partition {i}')\n",
    "    \n",
    "    plt.xlabel('Elements')\n",
    "    plt.ylabel('Partitions')\n",
    "    plt.title('Visualization of Equivalence Partitions')\n",
    "    plt.legend()\n",
    "    plt.show()\n"
   ]
  },
  {
   "cell_type": "code",
   "execution_count": 16,
   "id": "1d79209a",
   "metadata": {},
   "outputs": [
    {
     "data": {
      "image/png": "[encoded data removed]",
      "text/plain": [
       "<Figure size 800x600 with 1 Axes>"
      ]
     },
     "metadata": {},
     "output_type": "display_data"
    }
   ],
   "source": [
    "# Example elements and equivalence_partition function\n",
    "elements = [-3, -2, -1, 0, 1, 2, 3, 4, 5]\n",
    "partitions = equivalence_partition(elements, lambda x, y: (x - y) % 4 == 0)\n",
    "\n",
    "# Run the visualization\n",
    "visualize_partitions(partitions)\n"
   ]
  },
  {
   "cell_type": "code",
   "execution_count": null,
   "id": "dbaf8fec",
   "metadata": {},
   "outputs": [],
   "source": []
  },
  {
   "cell_type": "code",
   "execution_count": null,
   "id": "fe358af9",
   "metadata": {},
   "outputs": [],
   "source": []
  },
  {
   "cell_type": "code",
   "execution_count": null,
   "id": "66f176c9",
   "metadata": {},
   "outputs": [],
   "source": []
  }
 ],
 "metadata": {
  "kernelspec": {
   "display_name": "Python 3 (ipykernel)",
   "language": "python",
   "name": "python3"
  },
  "language_info": {
   "codemirror_mode": {
    "name": "ipython",
    "version": 3
   },
   "file_extension": ".py",
   "mimetype": "text/x-python",
   "name": "python",
   "nbconvert_exporter": "python",
   "pygments_lexer": "ipython3",
   "version": "3.10.9"
  }
 },
 "nbformat": 4,
 "nbformat_minor": 5
}
